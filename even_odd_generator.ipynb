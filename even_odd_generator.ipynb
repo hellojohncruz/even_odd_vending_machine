{
 "cells": [
  {
   "cell_type": "code",
   "execution_count": 1,
   "id": "f72a05a4-a094-4c7e-9cd1-0944ece4e9f3",
   "metadata": {},
   "outputs": [
    {
     "name": "stdin",
     "output_type": "stream",
     "text": [
      "Enter a number:  15\n"
     ]
    },
    {
     "name": "stdout",
     "output_type": "stream",
     "text": [
      "Your number is odd!\n",
      "15, 17, 19, 21, 23, 25, 27, 29, 31, 33\n"
     ]
    }
   ],
   "source": [
    "''' create a function to determine if user input is even or odd and\n",
    "      print out next (9) even/odd numbers respectively'''\n",
    "def even_odd(a):\n",
    "  next_9 = ''\n",
    "  # determine if even or odd\n",
    "  if a%2 == 0:\n",
    "    print('Your number is even!')\n",
    "  elif a%2 != 0:\n",
    "    print('Your number is odd!')\n",
    "\n",
    "  # print next 9 numbers\n",
    "  for i in range(0, 20, 2):\n",
    "    if i==0:\n",
    "      next_9 += f'{a+i:.0f}'\n",
    "    else:\n",
    "      next_9 += f', {a+i:.0f}'\n",
    "  print(next_9)\n",
    "\n",
    "# run code\n",
    "try:\n",
    "  user_num = float(input('Enter a number: '))\n",
    "  if user_num.is_integer():\n",
    "    even_odd(user_num)\n",
    "  else: \n",
    "    print('INVALID: Re-enter an integer')\n",
    "except ValueError:\n",
    "  print('INVALID: Re-enter an integer')"
   ]
  }
 ],
 "metadata": {
  "kernelspec": {
   "display_name": "Python 3 (ipykernel)",
   "language": "python",
   "name": "python3"
  },
  "language_info": {
   "codemirror_mode": {
    "name": "ipython",
    "version": 3
   },
   "file_extension": ".py",
   "mimetype": "text/x-python",
   "name": "python",
   "nbconvert_exporter": "python",
   "pygments_lexer": "ipython3",
   "version": "3.8.5"
  }
 },
 "nbformat": 4,
 "nbformat_minor": 5
}
